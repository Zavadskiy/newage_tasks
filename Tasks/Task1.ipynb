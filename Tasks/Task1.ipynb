{
 "cells": [
  {
   "cell_type": "code",
   "execution_count": null,
   "id": "47aa9af7-bac2-4ded-956a-dc75f7df6982",
   "metadata": {},
   "outputs": [],
   "source": [
    "!pip install -r requirements.txt "
   ]
  },
  {
   "cell_type": "code",
   "execution_count": 10,
   "id": "246b1fc1-9f80-4aa0-9fcc-27d65f227b31",
   "metadata": {},
   "outputs": [],
   "source": [
    "import requests\n",
    "import gspread\n",
    "from io import BytesIO\n",
    "from PIL import Image\n",
    "from google.oauth2.service_account import Credentials\n",
    "import pandas as pd"
   ]
  },
  {
   "cell_type": "code",
   "execution_count": 22,
   "id": "76c29c63-4cd0-40c7-8b8d-aa478605b8c5",
   "metadata": {},
   "outputs": [],
   "source": [
    "scope = ['https://spreadsheets.google.com/feeds', 'https://www.googleapis.com/auth/drive']\n",
    "creds = Credentials.from_service_account_file('PATH_YOUR_CREDENTIALS/auth_cred.json', scopes=scope)\n",
    "sheet_id = 'WRITE_YOUR_SHEET_ID' # example: https://docs.google.com/spreadsheets/d/1Qb1ybwIQ3TjOkk4PfHQ_1N87eJ0TLfqOujxc/edit#gid=0 "
   ]
  },
  {
   "cell_type": "markdown",
   "id": "8826444c-78b7-48a5-b914-618f7c625c17",
   "metadata": {},
   "source": [
    "Examle:\n",
    "Link sheet: https://docs.google.com/spreadsheets/d/1Qb1ybwIQ3TjOkk4PfHQ_1N87eJ0TLfqOujxc/edit#gid=0 \n",
    "sheet_id: 1Qb1ybwIQ3TjOkk4PfHQ_1N87eJ0TLfqOujxc\n"
   ]
  },
  {
   "cell_type": "code",
   "execution_count": 15,
   "id": "0ac17f9f-73e1-4b2b-8f44-29e161c4db26",
   "metadata": {},
   "outputs": [],
   "source": [
    "client = gspread.authorize(creds) \n",
    "sheet_place = client.open_by_key(sheet_id)\n",
    "\n",
    "worksheet = sheet_place.get_worksheet(0)\n",
    "data_sheet = worksheet.get_all_values()\n",
    "df_sheet = pd.DataFrame(data_sheet[1:], columns=data[0])"
   ]
  },
  {
   "cell_type": "code",
   "execution_count": 16,
   "id": "31bd8f10-e11e-4edf-9db8-7120e27ef8db",
   "metadata": {},
   "outputs": [
    {
     "data": {
      "text/html": [
       "<div>\n",
       "<style scoped>\n",
       "    .dataframe tbody tr th:only-of-type {\n",
       "        vertical-align: middle;\n",
       "    }\n",
       "\n",
       "    .dataframe tbody tr th {\n",
       "        vertical-align: top;\n",
       "    }\n",
       "\n",
       "    .dataframe thead th {\n",
       "        text-align: right;\n",
       "    }\n",
       "</style>\n",
       "<table border=\"1\" class=\"dataframe\">\n",
       "  <thead>\n",
       "    <tr style=\"text-align: right;\">\n",
       "      <th></th>\n",
       "      <th>image_url</th>\n",
       "      <th>SIZE</th>\n",
       "    </tr>\n",
       "  </thead>\n",
       "  <tbody>\n",
       "    <tr>\n",
       "      <th>0</th>\n",
       "      <td>https://data.sanitino.eu/PRODUCT-33916/8607663...</td>\n",
       "      <td>575x860</td>\n",
       "    </tr>\n",
       "    <tr>\n",
       "      <th>1</th>\n",
       "      <td>https://data.sanitino.eu/PRODUCT-62434/f7aa3c2...</td>\n",
       "      <td></td>\n",
       "    </tr>\n",
       "    <tr>\n",
       "      <th>2</th>\n",
       "      <td>https://data.sanitino.eu/PRODUCT-33915/8607663...</td>\n",
       "      <td></td>\n",
       "    </tr>\n",
       "    <tr>\n",
       "      <th>3</th>\n",
       "      <td>https://data.sanitino.eu/PRODUCT-62426/506d67b...</td>\n",
       "      <td></td>\n",
       "    </tr>\n",
       "    <tr>\n",
       "      <th>4</th>\n",
       "      <td>https://data.sanitino.eu/PRODUCT-33893/ccd99b4...</td>\n",
       "      <td></td>\n",
       "    </tr>\n",
       "    <tr>\n",
       "      <th>...</th>\n",
       "      <td>...</td>\n",
       "      <td>...</td>\n",
       "    </tr>\n",
       "    <tr>\n",
       "      <th>129</th>\n",
       "      <td>https://data.sanitino.eu/PRODUCT-29341/071b923...</td>\n",
       "      <td></td>\n",
       "    </tr>\n",
       "    <tr>\n",
       "      <th>130</th>\n",
       "      <td>https://data.sanitino.eu/PRODUCT-29337/f72de61...</td>\n",
       "      <td></td>\n",
       "    </tr>\n",
       "    <tr>\n",
       "      <th>131</th>\n",
       "      <td>https://data.sanitino.eu/PRODUCT-29340/071b923...</td>\n",
       "      <td></td>\n",
       "    </tr>\n",
       "    <tr>\n",
       "      <th>132</th>\n",
       "      <td>https://data.sanitino.eu/PRODUCT-62461/b6a28a3...</td>\n",
       "      <td></td>\n",
       "    </tr>\n",
       "    <tr>\n",
       "      <th>133</th>\n",
       "      <td>https://data.sanitino.eu/PRODUCT-29336/f72de61...</td>\n",
       "      <td></td>\n",
       "    </tr>\n",
       "  </tbody>\n",
       "</table>\n",
       "<p>134 rows × 2 columns</p>\n",
       "</div>"
      ],
      "text/plain": [
       "                                             image_url     SIZE\n",
       "0    https://data.sanitino.eu/PRODUCT-33916/8607663...  575x860\n",
       "1    https://data.sanitino.eu/PRODUCT-62434/f7aa3c2...         \n",
       "2    https://data.sanitino.eu/PRODUCT-33915/8607663...         \n",
       "3    https://data.sanitino.eu/PRODUCT-62426/506d67b...         \n",
       "4    https://data.sanitino.eu/PRODUCT-33893/ccd99b4...         \n",
       "..                                                 ...      ...\n",
       "129  https://data.sanitino.eu/PRODUCT-29341/071b923...         \n",
       "130  https://data.sanitino.eu/PRODUCT-29337/f72de61...         \n",
       "131  https://data.sanitino.eu/PRODUCT-29340/071b923...         \n",
       "132  https://data.sanitino.eu/PRODUCT-62461/b6a28a3...         \n",
       "133  https://data.sanitino.eu/PRODUCT-29336/f72de61...         \n",
       "\n",
       "[134 rows x 2 columns]"
      ]
     },
     "execution_count": 16,
     "metadata": {},
     "output_type": "execute_result"
    }
   ],
   "source": [
    "df_sheet # look on sheet data"
   ]
  },
  {
   "cell_type": "code",
   "execution_count": 18,
   "id": "5dcdb000-d268-4d35-965f-25c1f8225331",
   "metadata": {},
   "outputs": [],
   "source": [
    "def image_parametrs(image_url: str):\n",
    "    headers = {'User-Agent': 'Mozilla/5.0'}\n",
    "    response = requests.get(image_url, headers=headers)\n",
    "    if response.status_code != 200:\n",
    "        return f\"status link: {response.status_code}\"\n",
    "    image = Image.open(BytesIO(response.content))\n",
    "    width, height = image.size\n",
    "    return f\"{width}x{height}\" "
   ]
  },
  {
   "cell_type": "code",
   "execution_count": 19,
   "id": "a6142998-d36a-4fa4-8512-ffa0075cd594",
   "metadata": {},
   "outputs": [
    {
     "data": {
      "text/html": [
       "<div>\n",
       "<style scoped>\n",
       "    .dataframe tbody tr th:only-of-type {\n",
       "        vertical-align: middle;\n",
       "    }\n",
       "\n",
       "    .dataframe tbody tr th {\n",
       "        vertical-align: top;\n",
       "    }\n",
       "\n",
       "    .dataframe thead th {\n",
       "        text-align: right;\n",
       "    }\n",
       "</style>\n",
       "<table border=\"1\" class=\"dataframe\">\n",
       "  <thead>\n",
       "    <tr style=\"text-align: right;\">\n",
       "      <th></th>\n",
       "      <th>image_url</th>\n",
       "      <th>SIZE</th>\n",
       "    </tr>\n",
       "  </thead>\n",
       "  <tbody>\n",
       "    <tr>\n",
       "      <th>0</th>\n",
       "      <td>https://data.sanitino.eu/PRODUCT-33916/8607663...</td>\n",
       "      <td>1080x1614</td>\n",
       "    </tr>\n",
       "    <tr>\n",
       "      <th>1</th>\n",
       "      <td>https://data.sanitino.eu/PRODUCT-62434/f7aa3c2...</td>\n",
       "      <td>1080x1080</td>\n",
       "    </tr>\n",
       "    <tr>\n",
       "      <th>2</th>\n",
       "      <td>https://data.sanitino.eu/PRODUCT-33915/8607663...</td>\n",
       "      <td>1080x1614</td>\n",
       "    </tr>\n",
       "    <tr>\n",
       "      <th>3</th>\n",
       "      <td>https://data.sanitino.eu/PRODUCT-62426/506d67b...</td>\n",
       "      <td>1080x1080</td>\n",
       "    </tr>\n",
       "    <tr>\n",
       "      <th>4</th>\n",
       "      <td>https://data.sanitino.eu/PRODUCT-33893/ccd99b4...</td>\n",
       "      <td>1080x1614</td>\n",
       "    </tr>\n",
       "    <tr>\n",
       "      <th>...</th>\n",
       "      <td>...</td>\n",
       "      <td>...</td>\n",
       "    </tr>\n",
       "    <tr>\n",
       "      <th>129</th>\n",
       "      <td>https://data.sanitino.eu/PRODUCT-29341/071b923...</td>\n",
       "      <td>1093x1080</td>\n",
       "    </tr>\n",
       "    <tr>\n",
       "      <th>130</th>\n",
       "      <td>https://data.sanitino.eu/PRODUCT-29337/f72de61...</td>\n",
       "      <td>1093x1080</td>\n",
       "    </tr>\n",
       "    <tr>\n",
       "      <th>131</th>\n",
       "      <td>https://data.sanitino.eu/PRODUCT-29340/071b923...</td>\n",
       "      <td>1093x1080</td>\n",
       "    </tr>\n",
       "    <tr>\n",
       "      <th>132</th>\n",
       "      <td>https://data.sanitino.eu/PRODUCT-62461/b6a28a3...</td>\n",
       "      <td>1422x1080</td>\n",
       "    </tr>\n",
       "    <tr>\n",
       "      <th>133</th>\n",
       "      <td>https://data.sanitino.eu/PRODUCT-29336/f72de61...</td>\n",
       "      <td>1093x1080</td>\n",
       "    </tr>\n",
       "  </tbody>\n",
       "</table>\n",
       "<p>134 rows × 2 columns</p>\n",
       "</div>"
      ],
      "text/plain": [
       "                                             image_url       SIZE\n",
       "0    https://data.sanitino.eu/PRODUCT-33916/8607663...  1080x1614\n",
       "1    https://data.sanitino.eu/PRODUCT-62434/f7aa3c2...  1080x1080\n",
       "2    https://data.sanitino.eu/PRODUCT-33915/8607663...  1080x1614\n",
       "3    https://data.sanitino.eu/PRODUCT-62426/506d67b...  1080x1080\n",
       "4    https://data.sanitino.eu/PRODUCT-33893/ccd99b4...  1080x1614\n",
       "..                                                 ...        ...\n",
       "129  https://data.sanitino.eu/PRODUCT-29341/071b923...  1093x1080\n",
       "130  https://data.sanitino.eu/PRODUCT-29337/f72de61...  1093x1080\n",
       "131  https://data.sanitino.eu/PRODUCT-29340/071b923...  1093x1080\n",
       "132  https://data.sanitino.eu/PRODUCT-62461/b6a28a3...  1422x1080\n",
       "133  https://data.sanitino.eu/PRODUCT-29336/f72de61...  1093x1080\n",
       "\n",
       "[134 rows x 2 columns]"
      ]
     },
     "execution_count": 19,
     "metadata": {},
     "output_type": "execute_result"
    }
   ],
   "source": [
    "df_sheet['SIZE'] = df_sheet['image_url'].apply(image_parametrs)\n",
    "df_sheet"
   ]
  },
  {
   "cell_type": "code",
   "execution_count": 21,
   "id": "61060769-fcf0-41b7-83eb-ea2c39ccee47",
   "metadata": {},
   "outputs": [
    {
     "data": {
      "text/plain": [
       "{'spreadsheetId': '1Qb1ybwIQ3TjOkk4PfHApoQ_1N87eJ0TLfqOujxchagE',\n",
       " 'updatedRange': 'feed!A1:B135',\n",
       " 'updatedRows': 135,\n",
       " 'updatedColumns': 2,\n",
       " 'updatedCells': 270}"
      ]
     },
     "execution_count": 21,
     "metadata": {},
     "output_type": "execute_result"
    }
   ],
   "source": [
    "worksheet.update([df_sheet.columns.values.tolist()] + df_sheet.values.tolist())"
   ]
  },
  {
   "cell_type": "code",
   "execution_count": null,
   "id": "63f0b566-1de4-4c1d-a647-b7b1fb4c5df9",
   "metadata": {},
   "outputs": [],
   "source": []
  },
  {
   "cell_type": "code",
   "execution_count": null,
   "id": "5ba999a7-f3c1-476f-bc10-55ef724423b0",
   "metadata": {},
   "outputs": [],
   "source": [
    "\n"
   ]
  }
 ],
 "metadata": {
  "kernelspec": {
   "display_name": "Python 3 (ipykernel)",
   "language": "python",
   "name": "python3"
  },
  "language_info": {
   "codemirror_mode": {
    "name": "ipython",
    "version": 3
   },
   "file_extension": ".py",
   "mimetype": "text/x-python",
   "name": "python",
   "nbconvert_exporter": "python",
   "pygments_lexer": "ipython3",
   "version": "3.10.12"
  }
 },
 "nbformat": 4,
 "nbformat_minor": 5
}
