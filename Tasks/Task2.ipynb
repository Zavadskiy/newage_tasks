{
 "cells": [
  {
   "cell_type": "code",
   "execution_count": null,
   "id": "0aaeef69-739f-4ec5-aec9-8c3ef94b0207",
   "metadata": {},
   "outputs": [],
   "source": [
    "!pip install -r requirements.txt "
   ]
  },
  {
   "cell_type": "code",
   "execution_count": null,
   "id": "f2ed608e-6a81-4ec7-bbc6-e94521784a94",
   "metadata": {},
   "outputs": [],
   "source": [
    "from google.cloud.hooks import bigquery\n",
    "\n",
    "bq_creds = BigQueryHook(gcp_conn_id=\"PATH_YOUR_CRED/auth_cred.json\").get_credentials()\n",
    "\n",
    "df1 = bq_client.query(query1).to_dataframe()\n",
    "df2 = bq_client.query(query2).to_dataframe()\n",
    "df3 = bq_client.query(query3).to_dataframe()\n",
    "df4 = bq_client.query(query4).to_dataframe()\n",
    "df5 = bq_client.query(query5).to_dataframe()"
   ]
  },
  {
   "cell_type": "code",
   "execution_count": null,
   "id": "b99f3bee-3153-4b60-8607-3d441264c053",
   "metadata": {},
   "outputs": [],
   "source": [
    "import gspread\n",
    "from google.oauth2.service_account import Credentials\n",
    "\n",
    "scope = ['https://spreadsheets.google.com/feeds', 'https://www.googleapis.com/auth/drive']\n",
    "creds = Credentials.from_service_account_file('PATH_YOUR_CREDENTIALS/auth_cred.json', scopes=scope)\n",
    "sheet_id = 'WRITE_YOUR_SHEET_ID'\n",
    "client = gspread.authorize(creds) \n",
    "sheet_place = client.open_by_key(sheet_id)\n",
    "\n",
    "worksheet = sheet_place.get_worksheet(0)\n",
    "data_sheet = worksheet.get_all_values()\n",
    "worksheet.update([df_sheet.columns.values.tolist()] + df_sheet.values.tolist())"
   ]
  },
  {
   "cell_type": "code",
   "execution_count": null,
   "id": "f952d248-9c7c-40d9-b3a7-1c6217ba8dff",
   "metadata": {},
   "outputs": [],
   "source": [
    "dataframes = [df1, df2, df3, df4, df5]\n",
    "worksheets = []\n",
    "for i, df in enumerate(dataframes):\n",
    "    worksheet = sheet_place.add_worksheet(title=f\"Worksheet_{i+1}\", rows=\"100000\", cols=\"30\")\n",
    "    data = [df.columns.values.tolist()] + df.values.tolist()\n"
   ]
  }
 ],
 "metadata": {
  "kernelspec": {
   "display_name": "Python 3 (ipykernel)",
   "language": "python",
   "name": "python3"
  },
  "language_info": {
   "codemirror_mode": {
    "name": "ipython",
    "version": 3
   },
   "file_extension": ".py",
   "mimetype": "text/x-python",
   "name": "python",
   "nbconvert_exporter": "python",
   "pygments_lexer": "ipython3",
   "version": "3.10.12"
  }
 },
 "nbformat": 4,
 "nbformat_minor": 5
}
